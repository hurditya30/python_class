{
 "cells": [
  {
   "cell_type": "code",
   "execution_count": 1,
   "id": "069666e2-49b3-4a61-82cd-a22d50584d3e",
   "metadata": {},
   "outputs": [
    {
     "data": {
      "text/plain": [
       "2.0"
      ]
     },
     "execution_count": 1,
     "metadata": {},
     "output_type": "execute_result"
    }
   ],
   "source": [
    "8 * 0.25"
   ]
  },
  {
   "cell_type": "code",
   "execution_count": 2,
   "id": "cf908373-3b5c-4a33-b8c6-1486282f1f71",
   "metadata": {},
   "outputs": [
    {
     "data": {
      "text/plain": [
       "10.0"
      ]
     },
     "execution_count": 2,
     "metadata": {},
     "output_type": "execute_result"
    }
   ],
   "source": [
    "20/2"
   ]
  },
  {
   "cell_type": "code",
   "execution_count": 3,
   "id": "ad81ab22-f00a-419b-958f-68525228d9a9",
   "metadata": {},
   "outputs": [
    {
     "data": {
      "text/plain": [
       "18"
      ]
     },
     "execution_count": 3,
     "metadata": {},
     "output_type": "execute_result"
    }
   ],
   "source": [
    "2*9"
   ]
  },
  {
   "cell_type": "code",
   "execution_count": 4,
   "id": "75854865-8cb1-40d2-940c-6552bf8d5914",
   "metadata": {},
   "outputs": [
    {
     "data": {
      "text/plain": [
       "3.5"
      ]
     },
     "execution_count": 4,
     "metadata": {},
     "output_type": "execute_result"
    }
   ],
   "source": [
    "7/2"
   ]
  },
  {
   "cell_type": "code",
   "execution_count": 5,
   "id": "d3f71ca8-a25a-4796-bcd6-2be375885921",
   "metadata": {},
   "outputs": [
    {
     "data": {
      "text/plain": [
       "3.0"
      ]
     },
     "execution_count": 5,
     "metadata": {},
     "output_type": "execute_result"
    }
   ],
   "source": [
    "12.0/4"
   ]
  },
  {
   "cell_type": "code",
   "execution_count": 6,
   "id": "dd616374-1d22-402f-9821-7810fba43ffb",
   "metadata": {},
   "outputs": [
    {
     "data": {
      "text/plain": [
       "7.0"
      ]
     },
     "execution_count": 6,
     "metadata": {},
     "output_type": "execute_result"
    }
   ],
   "source": [
    "8-1.0"
   ]
  },
  {
   "cell_type": "code",
   "execution_count": 7,
   "id": "0da6fe8b-0a91-4170-b709-aa18b08872f2",
   "metadata": {},
   "outputs": [
    {
     "data": {
      "text/plain": [
       "4.75"
      ]
     },
     "execution_count": 7,
     "metadata": {},
     "output_type": "execute_result"
    }
   ],
   "source": [
    "5-0.25"
   ]
  },
  {
   "cell_type": "code",
   "execution_count": 8,
   "id": "1c7e7158-31c2-4fc3-a33b-b2872d2eba95",
   "metadata": {},
   "outputs": [
    {
     "data": {
      "text/plain": [
       "90"
      ]
     },
     "execution_count": 8,
     "metadata": {},
     "output_type": "execute_result"
    }
   ],
   "source": [
    "int('34')+56"
   ]
  },
  {
   "cell_type": "code",
   "execution_count": 12,
   "id": "fcbfad5b-7839-4f35-98a1-6008ec727417",
   "metadata": {},
   "outputs": [
    {
     "data": {
      "text/plain": [
       "'12red roses'"
      ]
     },
     "execution_count": 12,
     "metadata": {},
     "output_type": "execute_result"
    }
   ],
   "source": [
    "str(12)+ 'red roses'"
   ]
  },
  {
   "cell_type": "code",
   "execution_count": 11,
   "id": "923340ee-701d-4550-ab60-bf44cdf17761",
   "metadata": {},
   "outputs": [
    {
     "data": {
      "text/plain": [
       "'505050'"
      ]
     },
     "execution_count": 11,
     "metadata": {},
     "output_type": "execute_result"
    }
   ],
   "source": [
    "'50' *3"
   ]
  },
  {
   "cell_type": "code",
   "execution_count": 13,
   "id": "1bd085fd-380f-49fe-a847-f602168c70ae",
   "metadata": {},
   "outputs": [
    {
     "ename": "TypeError",
     "evalue": "can only concatenate str (not \"int\") to str",
     "output_type": "error",
     "traceback": [
      "\u001b[1;31m---------------------------------------------------------------------------\u001b[0m",
      "\u001b[1;31mTypeError\u001b[0m                                 Traceback (most recent call last)",
      "Cell \u001b[1;32mIn[13], line 1\u001b[0m\n\u001b[1;32m----> 1\u001b[0m \u001b[38;5;28mstr\u001b[39m(\u001b[38;5;241m5.2\u001b[39m)\u001b[38;5;241m+\u001b[39m\u001b[38;5;241m7\u001b[39m\n",
      "\u001b[1;31mTypeError\u001b[0m: can only concatenate str (not \"int\") to str"
     ]
    }
   ],
   "source": [
    "str(5.2)+ 7"
   ]
  },
  {
   "cell_type": "code",
   "execution_count": 14,
   "id": "c7e225d0-eec8-41cc-8dad-918f8f4792c5",
   "metadata": {},
   "outputs": [
    {
     "data": {
      "text/plain": [
       "180.0"
      ]
     },
     "execution_count": 14,
     "metadata": {},
     "output_type": "execute_result"
    }
   ],
   "source": [
    "80.0+int('100')"
   ]
  },
  {
   "cell_type": "code",
   "execution_count": 15,
   "id": "096471fc-c7e4-44ac-b5ea-fc5872f7f82d",
   "metadata": {},
   "outputs": [
    {
     "data": {
      "text/plain": [
       "'3.14159'"
      ]
     },
     "execution_count": 15,
     "metadata": {},
     "output_type": "execute_result"
    }
   ],
   "source": [
    "str(3.14)+'159'"
   ]
  },
  {
   "cell_type": "code",
   "execution_count": 19,
   "id": "d8692ec6-1a4a-4d6d-8fe3-08417a5b4ead",
   "metadata": {},
   "outputs": [
    {
     "name": "stdout",
     "output_type": "stream",
     "text": [
      "3698754.000000000000000000000000000000\n"
     ]
    }
   ],
   "source": [
    "print(f'{:.30f}')"
   ]
  },
  {
   "cell_type": "code",
   "execution_count": 20,
   "id": "d6957cff-76c2-497f-a13b-c4ad5bef66c5",
   "metadata": {},
   "outputs": [
    {
     "name": "stdout",
     "output_type": "stream",
     "text": [
      "3.0 to the power of 256 = 1.3900845237714473e+122\n"
     ]
    }
   ],
   "source": [
    "print('3.0 to the power of 256 =', 3.0**256)"
   ]
  },
  {
   "cell_type": "code",
   "execution_count": 21,
   "id": "e221b4c1-8a55-411b-aac9-9e3d74830ebf",
   "metadata": {},
   "outputs": [
    {
     "name": "stdout",
     "output_type": "stream",
     "text": [
      "3.0 to the power of 512 =  1.9323349832288915e+244\n"
     ]
    }
   ],
   "source": [
    "print('3.0 to the power of 512 = ', 3.0**512)"
   ]
  },
  {
   "cell_type": "code",
   "execution_count": 22,
   "id": "8e3cd65e-6d20-4786-a6bb-55fb889bf900",
   "metadata": {},
   "outputs": [
    {
     "ename": "OverflowError",
     "evalue": "(34, 'Result too large')",
     "output_type": "error",
     "traceback": [
      "\u001b[1;31m---------------------------------------------------------------------------\u001b[0m",
      "\u001b[1;31mOverflowError\u001b[0m                             Traceback (most recent call last)",
      "Cell \u001b[1;32mIn[22], line 1\u001b[0m\n\u001b[1;32m----> 1\u001b[0m \u001b[38;5;28mprint\u001b[39m(\u001b[38;5;124m'\u001b[39m\u001b[38;5;124m3.0 to the power of 1024 = \u001b[39m\u001b[38;5;124m'\u001b[39m, \u001b[38;5;241m3.0\u001b[39m\u001b[38;5;241m*\u001b[39m\u001b[38;5;241m*\u001b[39m\u001b[38;5;241m1024\u001b[39m)\n",
      "\u001b[1;31mOverflowError\u001b[0m: (34, 'Result too large')"
     ]
    }
   ],
   "source": [
    "print('3.0 to the power of 1024 = ', 3.0**1024)"
   ]
  },
  {
   "cell_type": "code",
   "execution_count": 23,
   "id": "449cc6cc-4aa7-4a97-a812-cf63baf2dcbf",
   "metadata": {},
   "outputs": [
    {
     "data": {
      "text/plain": [
       "0.012345678901234568"
      ]
     },
     "execution_count": 23,
     "metadata": {},
     "output_type": "execute_result"
    }
   ],
   "source": [
    "0.123456789012345678901234567890 * 0.1"
   ]
  },
  {
   "cell_type": "code",
   "execution_count": 28,
   "id": "9b95df3e-2bd7-4039-8ae6-3ce42ae8302f",
   "metadata": {},
   "outputs": [
    {
     "data": {
      "text/plain": [
       "2"
      ]
     },
     "execution_count": 28,
     "metadata": {},
     "output_type": "execute_result"
    }
   ],
   "source": [
    "round(2.451)"
   ]
  },
  {
   "cell_type": "code",
   "execution_count": 29,
   "id": "57e70dd1-c36c-41ee-8105-fab9c937d53c",
   "metadata": {},
   "outputs": [
    {
     "data": {
      "text/plain": [
       "7"
      ]
     },
     "execution_count": 29,
     "metadata": {},
     "output_type": "execute_result"
    }
   ],
   "source": [
    "round(6.6)"
   ]
  },
  {
   "cell_type": "code",
   "execution_count": 30,
   "id": "3e1a69f5-240e-4acb-ac6e-bcc9433ce7ad",
   "metadata": {},
   "outputs": [
    {
     "data": {
      "text/plain": [
       "12"
      ]
     },
     "execution_count": 30,
     "metadata": {},
     "output_type": "execute_result"
    }
   ],
   "source": [
    "round(12)"
   ]
  },
  {
   "cell_type": "code",
   "execution_count": 31,
   "id": "d8c0caed-4213-47e7-a63a-76a88c8050f3",
   "metadata": {},
   "outputs": [
    {
     "data": {
      "text/plain": [
       "0.1"
      ]
     },
     "execution_count": 31,
     "metadata": {},
     "output_type": "execute_result"
    }
   ],
   "source": [
    "round(0.1,1)"
   ]
  },
  {
   "cell_type": "code",
   "execution_count": 32,
   "id": "be378f6c-de8a-4450-9d37-d99b437805d3",
   "metadata": {},
   "outputs": [
    {
     "data": {
      "text/plain": [
       "2.6"
      ]
     },
     "execution_count": 32,
     "metadata": {},
     "output_type": "execute_result"
    }
   ],
   "source": [
    "13/5"
   ]
  },
  {
   "cell_type": "code",
   "execution_count": 33,
   "id": "edf319c8-0bae-40c3-94a8-4d1b629f38a8",
   "metadata": {},
   "outputs": [
    {
     "ename": "ZeroDivisionError",
     "evalue": "integer modulo by zero",
     "output_type": "error",
     "traceback": [
      "\u001b[1;31m---------------------------------------------------------------------------\u001b[0m",
      "\u001b[1;31mZeroDivisionError\u001b[0m                         Traceback (most recent call last)",
      "Cell \u001b[1;32mIn[33], line 1\u001b[0m\n\u001b[1;32m----> 1\u001b[0m \u001b[38;5;241m2\u001b[39m\u001b[38;5;241m%\u001b[39m\u001b[38;5;241m0\u001b[39m\n",
      "\u001b[1;31mZeroDivisionError\u001b[0m: integer modulo by zero"
     ]
    }
   ],
   "source": [
    "2%0"
   ]
  },
  {
   "cell_type": "code",
   "execution_count": 37,
   "id": "930c4987-6693-4161-b5f7-796694abff62",
   "metadata": {},
   "outputs": [
    {
     "name": "stdin",
     "output_type": "stream",
     "text": [
      "Enter x1: 3\n",
      "Enter y1: 6\n",
      "Enter x2: 9\n",
      "Enter y2: 12\n"
     ]
    },
    {
     "name": "stdout",
     "output_type": "stream",
     "text": [
      "The distance is 8.48528137423857\n"
     ]
    }
   ],
   "source": [
    "import math\n",
    "x1=float(input(\"Enter x1:\"))\n",
    "y1=float(input(\"Enter y1:\"))\n",
    "x2=float(input(\"Enter x2:\"))\n",
    "y2=float(input(\"Enter y2:\"))\n",
    "distance=math.sqrt((x2-x1)**2+(y2-y1)**2)\n",
    "print(\"The distance is\",distance)"
   ]
  }
 ],
 "metadata": {
  "kernelspec": {
   "display_name": "Python [conda env:base] *",
   "language": "python",
   "name": "conda-base-py"
  },
  "language_info": {
   "codemirror_mode": {
    "name": "ipython",
    "version": 3
   },
   "file_extension": ".py",
   "mimetype": "text/x-python",
   "name": "python",
   "nbconvert_exporter": "python",
   "pygments_lexer": "ipython3",
   "version": "3.13.5"
  }
 },
 "nbformat": 4,
 "nbformat_minor": 5
}
