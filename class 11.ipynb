{
 "cells": [
  {
   "cell_type": "code",
   "execution_count": 2,
   "id": "3bdfd27d-4e44-46dc-bd54-fd066ad2b66e",
   "metadata": {},
   "outputs": [
    {
     "name": "stdout",
     "output_type": "stream",
     "text": [
      "The sum of 34 and 21 is: 55\n"
     ]
    }
   ],
   "source": [
    "num1 = 34\n",
    "num2 = 21\n",
    "\n",
    "sum_result = num1 + num2\n",
    "\n",
    "\n",
    "print(f\"The sum of {num1} and {num2} is: {sum_result}\")"
   ]
  },
  {
   "cell_type": "code",
   "execution_count": 3,
   "id": "cbb9ad16-6b3d-45c5-b89b-ea6c1a8e8164",
   "metadata": {},
   "outputs": [
    {
     "name": "stdout",
     "output_type": "stream",
     "text": [
      "The square root of 64 is: 8.0\n"
     ]
    }
   ],
   "source": [
    "import math\n",
    "\n",
    "number = 64\n",
    "\n",
    "square_root = math.sqrt(number)\n",
    "\n",
    "print(f\"The square root of {number} is: {square_root}\")"
   ]
  },
  {
   "cell_type": "code",
   "execution_count": 4,
   "id": "87087a7f-961c-426a-b3f9-c6b619bae1d8",
   "metadata": {},
   "outputs": [
    {
     "name": "stdin",
     "output_type": "stream",
     "text": [
      "Enter the base length of the triangle:  300\n",
      "Enter the height of the triangle:  400\n"
     ]
    },
    {
     "name": "stdout",
     "output_type": "stream",
     "text": [
      "The area of the right-angled triangle with base 300.0 and height 400.0 is: 60000.0\n"
     ]
    }
   ],
   "source": [
    "base = float(input(\"Enter the base length of the triangle: \"))\n",
    "height = float(input(\"Enter the height of the triangle: \"))\n",
    "\n",
    "area = 0.5 * base * height\n",
    "\n",
    "print(f\"The area of the right-angled triangle with base {base} and height {height} is: {area}\")"
   ]
  },
  {
   "cell_type": "code",
   "execution_count": 5,
   "id": "b8e1a395-211d-44ed-950e-16dff315c3ae",
   "metadata": {},
   "outputs": [
    {
     "name": "stdout",
     "output_type": "stream",
     "text": [
      "Before swapping: a = 10, b = 20\n",
      "After swapping: a = 20, b = 10\n"
     ]
    }
   ],
   "source": [
    "a = 10\n",
    "b = 20\n",
    "\n",
    "print(f\"Before swapping: a = {a}, b = {b}\")\n",
    "\n",
    "a, b = b, a\n",
    "\n",
    "print(f\"After swapping: a = {a}, b = {b}\")"
   ]
  },
  {
   "cell_type": "code",
   "execution_count": 6,
   "id": "46c941a7-eb60-438b-91c5-4edf9ffb67ea",
   "metadata": {},
   "outputs": [
    {
     "name": "stdin",
     "output_type": "stream",
     "text": [
      "Enter the first value:  10\n",
      "Enter the second value:  50\n"
     ]
    },
    {
     "name": "stdout",
     "output_type": "stream",
     "text": [
      "Before swapping: a = 10, b = 50\n",
      "After swapping: a = 50, b = 10\n"
     ]
    }
   ],
   "source": [
    "a = input(\"Enter the first value: \")\n",
    "b = input(\"Enter the second value: \")\n",
    "\n",
    "print(f\"Before swapping: a = {a}, b = {b}\")\n",
    "\n",
    "a, b = b, a\n",
    "\n",
    "print(f\"After swapping: a = {a}, b = {b}\")"
   ]
  },
  {
   "cell_type": "code",
   "execution_count": 8,
   "id": "3015cebb-87db-46b4-98d9-8ece65f2e267",
   "metadata": {},
   "outputs": [
    {
     "name": "stdout",
     "output_type": "stream",
     "text": [
      "Your random number is: 39\n"
     ]
    }
   ],
   "source": [
    "\n",
    "import random\n",
    "\n",
    "random_number = random.randint(1, 100)\n",
    "\n",
    "print(f\"Your random number is: {random_number}\")\n"
   ]
  },
  {
   "cell_type": "code",
   "execution_count": 11,
   "id": "95a2e0c9-30c6-4298-8ee4-569d736cecf4",
   "metadata": {},
   "outputs": [
    {
     "name": "stdin",
     "output_type": "stream",
     "text": [
      "Enter a number:  -50\n"
     ]
    },
    {
     "name": "stdout",
     "output_type": "stream",
     "text": [
      "The number is negative.\n"
     ]
    }
   ],
   "source": [
    "number = float(input(\"Enter a number: \"))\n",
    "\n",
    "if number > 0:\n",
    "    print(\"The number is positive.\")\n",
    "elif number < 0:\n",
    "    print(\"The number is negative.\")\n",
    "else:\n",
    "    print(\"The number is zero.\")"
   ]
  },
  {
   "cell_type": "code",
   "execution_count": 13,
   "id": "a70b5bb9-4ea8-4e6e-a4f6-c77840ef2886",
   "metadata": {},
   "outputs": [
    {
     "name": "stdin",
     "output_type": "stream",
     "text": [
      "Enter an integer:  21\n"
     ]
    },
    {
     "name": "stdout",
     "output_type": "stream",
     "text": [
      "21 is an odd number.\n"
     ]
    }
   ],
   "source": [
    "number = int(input(\"Enter an integer: \"))\n",
    "\n",
    "if number % 2 == 0:\n",
    "    print(f\"{number} is an even number.\")\n",
    "else:\n",
    "    print(f\"{number} is an odd number.\")"
   ]
  },
  {
   "cell_type": "code",
   "execution_count": 16,
   "id": "ae9793bc-eada-46b6-88c7-35079e392dd3",
   "metadata": {},
   "outputs": [
    {
     "name": "stdin",
     "output_type": "stream",
     "text": [
      "Enter a year:  2012\n"
     ]
    },
    {
     "name": "stdout",
     "output_type": "stream",
     "text": [
      "2012 is a leap year.\n"
     ]
    }
   ],
   "source": [
    "year = int(input(\"Enter a year: \"))\n",
    "\n",
    "if (year % 400 == 0) or (year % 4 == 0 and year % 100 != 0):\n",
    "    print(f\"{year} is a leap year.\")\n",
    "else:\n",
    "    print(f\"{year} is not a leap year.\")"
   ]
  },
  {
   "cell_type": "code",
   "execution_count": 22,
   "id": "6c669a21-e6c7-4fab-ae9d-15365122a9fc",
   "metadata": {},
   "outputs": [
    {
     "name": "stdin",
     "output_type": "stream",
     "text": [
      "Enter a positive integer:  7\n"
     ]
    },
    {
     "name": "stdout",
     "output_type": "stream",
     "text": [
      "7 is a prime number.\n"
     ]
    }
   ],
   "source": [
    "num = int(input(\"Enter a positive integer: \"))\n",
    "\n",
    "if num < 2:\n",
    "    print(f\"{num} is not a prime number.\")\n",
    "else:\n",
    "\n",
    "    is_prime = True\n",
    "    \n",
    "    for i in range(2, int(num**0.5) + 1):\n",
    "        if num % i == 0:\n",
    "            is_prime = False\n",
    "            break\n",
    "    \n",
    "    if is_prime:\n",
    "        print(f\"{num} is a prime number.\")\n",
    "    else:\n",
    "        print(f\"{num} is not a prime number.\")"
   ]
  },
  {
   "cell_type": "code",
   "execution_count": 24,
   "id": "c5f42f36-d426-42cc-b234-977cf75b78a1",
   "metadata": {},
   "outputs": [
    {
     "name": "stdin",
     "output_type": "stream",
     "text": [
      "Enter a non-negative integer:  2\n"
     ]
    },
    {
     "name": "stdout",
     "output_type": "stream",
     "text": [
      "The factorial of 2 is 2\n"
     ]
    }
   ],
   "source": [
    "num = int(input(\"Enter a non-negative integer: \"))\n",
    "\n",
    "if num < 0:\n",
    "    print(\"Factorial is not defined for negative numbers.\")\n",
    "else:\n",
    "    factorial = 1\n",
    "    \n",
    "    for i in range(1, num + 1):\n",
    "        factorial *= i\n",
    "    \n",
    "    print(f\"The factorial of {num} is {factorial}\")"
   ]
  }
 ],
 "metadata": {
  "kernelspec": {
   "display_name": "Python [conda env:base] *",
   "language": "python",
   "name": "conda-base-py"
  },
  "language_info": {
   "codemirror_mode": {
    "name": "ipython",
    "version": 3
   },
   "file_extension": ".py",
   "mimetype": "text/x-python",
   "name": "python",
   "nbconvert_exporter": "python",
   "pygments_lexer": "ipython3",
   "version": "3.13.5"
  }
 },
 "nbformat": 4,
 "nbformat_minor": 5
}
