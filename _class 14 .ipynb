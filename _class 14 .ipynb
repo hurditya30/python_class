{
 "cells": [
  {
   "cell_type": "code",
   "execution_count": 2,
   "id": "59d737ac-525a-489d-9a5e-9dad7b10cb34",
   "metadata": {},
   "outputs": [
    {
     "name": "stdout",
     "output_type": "stream",
     "text": [
      "1\n",
      "2\n",
      "3\n",
      "4\n",
      "5\n",
      "6\n",
      "7\n",
      "8\n"
     ]
    }
   ],
   "source": [
    "str_var=\"A string\"\n",
    "count=0\n",
    "for c in str_var:\n",
    "    count+=1\n",
    "    print(count)"
   ]
  },
  {
   "cell_type": "code",
   "execution_count": 4,
   "id": "9d7b659c-e78f-4a8e-84de-f46f44675612",
   "metadata": {},
   "outputs": [
    {
     "name": "stdout",
     "output_type": "stream",
     "text": [
      "0\n"
     ]
    }
   ],
   "source": [
    "str_var=\"A string\"\n",
    "count=0\n",
    "for c in str_var:\n",
    "    count *=2\n",
    "print(count)"
   ]
  },
  {
   "cell_type": "code",
   "execution_count": 6,
   "id": "7f22d8e7-f93b-4ff6-8c6f-a87fafc8a83c",
   "metadata": {},
   "outputs": [
    {
     "name": "stdout",
     "output_type": "stream",
     "text": [
      "A* *s*t*r*i*n*g*"
     ]
    }
   ],
   "source": [
    "str_var=\"A string\"\n",
    "count=0\n",
    "for c in str_var:\n",
    "    count+=1\n",
    "    print (c, end = '*')\n"
   ]
  },
  {
   "cell_type": "code",
   "execution_count": 19,
   "id": "5aa3f276-c6b7-4065-842a-718cba14ee3f",
   "metadata": {},
   "outputs": [
    {
     "name": "stdout",
     "output_type": "stream",
     "text": [
      "21\n",
      "17\n",
      "13\n",
      "9\n"
     ]
    }
   ],
   "source": [
    "for numbers in range(21,5,-4):\n",
    "    print(numbers)"
   ]
  },
  {
   "cell_type": "code",
   "execution_count": 20,
   "id": "a6beb673-373b-4014-b9bd-5a59b9a9aa9d",
   "metadata": {},
   "outputs": [
    {
     "name": "stdout",
     "output_type": "stream",
     "text": [
      "0\n",
      "5\n",
      "10\n",
      "15\n",
      "20\n",
      "25\n",
      "30\n",
      "35\n",
      "40\n",
      "45\n"
     ]
    }
   ],
   "source": [
    "for i in range (0,50,5):\n",
    "    print (i)"
   ]
  },
  {
   "cell_type": "code",
   "execution_count": null,
   "id": "03b31290-36c6-4662-9d79-a0b6e6266a3c",
   "metadata": {},
   "outputs": [],
   "source": [
    "range(-1,-2,-1)"
   ]
  },
  {
   "cell_type": "code",
   "execution_count": null,
   "id": "2fc6d282-1a98-4c09-b849-5d5481119e9b",
   "metadata": {},
   "outputs": [],
   "source": [
    "range(5,2)"
   ]
  },
  {
   "cell_type": "code",
   "execution_count": null,
   "id": "c9702ebf-3e81-47a6-ae49-5db48795a6d5",
   "metadata": {},
   "outputs": [],
   "source": []
  }
 ],
 "metadata": {
  "kernelspec": {
   "display_name": "Python [conda env:base] *",
   "language": "python",
   "name": "conda-base-py"
  },
  "language_info": {
   "codemirror_mode": {
    "name": "ipython",
    "version": 3
   },
   "file_extension": ".py",
   "mimetype": "text/x-python",
   "name": "python",
   "nbconvert_exporter": "python",
   "pygments_lexer": "ipython3",
   "version": "3.13.5"
  }
 },
 "nbformat": 4,
 "nbformat_minor": 5
}
