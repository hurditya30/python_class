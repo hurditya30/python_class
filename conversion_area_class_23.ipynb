{
 "cells": [
  {
   "cell_type": "code",
   "execution_count": 5,
   "id": "2a08865b-97d1-4a65-9e26-33cedaa475a0",
   "metadata": {},
   "outputs": [],
   "source": [
    "\"\"\" functions to calculate the area of geometric shapes.\"\"\"\n",
    "import math\n",
    "def square(side):\n",
    "    \"\"\"Gets the area of a square.\"\"\"\n",
    "    return side**2\n",
    "\n",
    "\n",
    "def rectangle(length,width):\n",
    "    \"\"\"Gets the area of a rectangle.\"\"\"\n",
    "    return (length * width)\n",
    "\n",
    "\n",
    "def triangle(base,height):\n",
    "    \"\"\"Gets the area of a triangle.\"\"\"\n",
    "    return 0.5*base *height\n",
    "\n",
    "\n",
    "def trapezoid(base1,base2,height):\n",
    "    \"\"\"Gets the area of a trapezoid.\"\"\"\n",
    "    return 0.5 *(base1+base) * height\n",
    "\n",
    "\n",
    "def circle(radius):\n",
    "    \"\"\"Gets the area of a circle.\"\"\"\n",
    "    return math.pi*radius**2\n",
    "\n",
    "\n",
    "def ellipse(major,minor):\n",
    "    \"\"\"Gets the area of an ellipse.\"\"\"\n",
    "    return math.pi * major*minor\n",
    "\n",
    "\n",
    "def cube(side):\n",
    "    \"\"\"Gets the surface area of a cube.\"\"\"\n",
    "    return 6 * side**2\n",
    "\n",
    "\n",
    "def cylinder(radius,height):\n",
    "    \"\"\"Gets the surface area of a cylinder.\"\"\"\n",
    "    return 2*math.pi*radius*(radius+height)\n",
    "\n",
    "\n",
    "def cone(radius,height):\n",
    "    \"\"\"Gets the surface area of a cone.\"\"\"\n",
    "    return math.pi*radius*(radius + math.hypot(height,radius))\n",
    "\n",
    "\n",
    "def sphere(radius):\n",
    "    \"\"\"Gets the surface area of a sphere.\"\"\"\n",
    "    return 4* math.pi*radius**2"
   ]
  },
  {
   "cell_type": "code",
   "execution_count": 6,
   "id": "8a769490-1992-44ea-93a4-eff4e5a6dbf4",
   "metadata": {},
   "outputs": [
    {
     "data": {
      "text/plain": [
       "150"
      ]
     },
     "execution_count": 6,
     "metadata": {},
     "output_type": "execute_result"
    }
   ],
   "source": [
    "cube(5)"
   ]
  },
  {
   "cell_type": "code",
   "execution_count": 8,
   "id": "3bdf3b03-042e-43a1-895a-de25fb6e2781",
   "metadata": {},
   "outputs": [
    {
     "name": "stdout",
     "output_type": "stream",
     "text": [
      "Area of a basketball court: 4700\n",
      "Area of a circus ring: 1385.4423602330987\n"
     ]
    }
   ],
   "source": [
    "print(\"Area of a basketball court:\",rectangle(94,50))\n",
    "print(\"Area of a circus ring:\",circle(21))"
   ]
  },
  {
   "cell_type": "code",
   "execution_count": 9,
   "id": "c80b25ef-bcea-4b2a-907f-b39c21bd4fbb",
   "metadata": {},
   "outputs": [],
   "source": [
    "def cel2fah(c):\n",
    "    \"\"\"Convert Celsius to Fahrenheit\"\"\"\n",
    "    return 9/5 *c+32\n",
    "\n",
    "def fah2cel(f):\n",
    "    \"\"\"Convert Fahrenheit to Celsius\"\"\"\n",
    "    return 5/9*(f-32)\n",
    "\n",
    "def km2mi(km):\n",
    "    \"\"\"Convert kilometers to miles\"\"\"\n",
    "    return km/1.60934\n",
    "def mi2km(mi):\n",
    "    \"\"\"Convert miles to kilometers\"\"\"\n",
    "    return mi*1.60934"
   ]
  },
  {
   "cell_type": "code",
   "execution_count": 13,
   "id": "e4ea4590-954f-4703-a536-d12c837da9f0",
   "metadata": {},
   "outputs": [
    {
     "name": "stdout",
     "output_type": "stream",
     "text": [
      "98.60000000000001\n",
      "36.66666666666667\n",
      "62.137273664980675\n",
      "160.934\n"
     ]
    }
   ],
   "source": [
    "print(cel2fah(37))\n",
    "print(fah2cel(98))\n",
    "print(km2mi(100))\n",
    "print(mi2km(100))"
   ]
  }
 ],
 "metadata": {
  "kernelspec": {
   "display_name": "Python [conda env:base] *",
   "language": "python",
   "name": "conda-base-py"
  },
  "language_info": {
   "codemirror_mode": {
    "name": "ipython",
    "version": 3
   },
   "file_extension": ".py",
   "mimetype": "text/x-python",
   "name": "python",
   "nbconvert_exporter": "python",
   "pygments_lexer": "ipython3",
   "version": "3.13.5"
  }
 },
 "nbformat": 4,
 "nbformat_minor": 5
}
