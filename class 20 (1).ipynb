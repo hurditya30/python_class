{
 "cells": [
  {
   "cell_type": "code",
   "execution_count": 9,
   "id": "308860a2-12d9-4413-af8d-1100a39a3232",
   "metadata": {},
   "outputs": [
    {
     "name": "stdin",
     "output_type": "stream",
     "text": [
      "Enter hour: 5\n"
     ]
    },
    {
     "name": "stdout",
     "output_type": "stream",
     "text": [
      "New hour: 5\n"
     ]
    }
   ],
   "source": [
    "def update_hour():\n",
    "    tmp=hour\n",
    "    if is_dst:\n",
    "      tmp += 1\n",
    "    else:\n",
    "        tmp -= 1\n",
    "is_dst= True\n",
    "hour=int(input(\"Enter hour:\"))\n",
    "update_hour()\n",
    "print(\"New hour:\",hour)"
   ]
  },
  {
   "cell_type": "code",
   "execution_count": 12,
   "id": "f2cf803b-6b5a-4fe3-80db-b9d0c57e21b6",
   "metadata": {},
   "outputs": [
    {
     "name": "stdin",
     "output_type": "stream",
     "text": [
      "Enter hour: 9\n"
     ]
    },
    {
     "name": "stdout",
     "output_type": "stream",
     "text": [
      "New hour: 10\n"
     ]
    }
   ],
   "source": [
    "def update_hour(hour, is_dst):\n",
    "    new_hour = hour\n",
    "    if is_dst:\n",
    "        new_hour += 1\n",
    "    else:\n",
    "        new_hour -= 1\n",
    "    return new_hour\n",
    "is_dst = True\n",
    "hour = int(input(\"Enter hour:\"))\n",
    "new_hour = update_hour(hour, is_dst) \n",
    "print(\"New hour:\", new_hour)"
   ]
  },
  {
   "cell_type": "code",
   "execution_count": null,
   "id": "17b1df79-76cb-4e98-9988-8bd40d56e0e6",
   "metadata": {},
   "outputs": [],
   "source": [
    "def battle_royale():\n",
    "    num_player = int(input(\"Enter the number of players: \"))\n",
    "    if num_player < 3:\n",
    "        req_player = 3 - num_player\n",
    "        print(f\"Finding {req_player} more players...\")\n",
    "        find_teammates()\n",
    "    else:\n",
    "        print(\"Match starting!\")\n",
    "battle_royale()"
   ]
  }
 ],
 "metadata": {
  "kernelspec": {
   "display_name": "Python [conda env:base] *",
   "language": "python",
   "name": "conda-base-py"
  },
  "language_info": {
   "codemirror_mode": {
    "name": "ipython",
    "version": 3
   },
   "file_extension": ".py",
   "mimetype": "text/x-python",
   "name": "python",
   "nbconvert_exporter": "python",
   "pygments_lexer": "ipython3",
   "version": "3.13.5"
  }
 },
 "nbformat": 4,
 "nbformat_minor": 5
}
