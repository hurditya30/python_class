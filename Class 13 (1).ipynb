{
 "cells": [
  {
   "cell_type": "code",
   "execution_count": 4,
   "id": "100a4dbe-f012-4997-a378-e71e62649446",
   "metadata": {},
   "outputs": [
    {
     "name": "stdin",
     "output_type": "stream",
     "text": [
      "Enter smaller number 3\n",
      "Enter larger number 6\n"
     ]
    },
    {
     "name": "stdout",
     "output_type": "stream",
     "text": [
      "24\n"
     ]
    }
   ],
   "source": [
    "n1=int(input(\"Enter smaller number\"))\n",
    "n2=int(input(\"Enter larger number\"))\n",
    "sum=0\n",
    "number=n1\n",
    "number=n2\n",
    "while n1 < n2: \n",
    "    sum= sum+n1\n",
    "    n1=n1+1\n",
    "print(sum + n1+n2)"
   ]
  },
  {
   "cell_type": "code",
   "execution_count": 19,
   "id": "5fbede2c-9c32-4da4-994d-0847a43bd79e",
   "metadata": {},
   "outputs": [
    {
     "name": "stdin",
     "output_type": "stream",
     "text": [
      "Enter Smaller number 3\n",
      "Enter Larger number 8\n"
     ]
    },
    {
     "name": "stdout",
     "output_type": "stream",
     "text": [
      "15\n"
     ]
    }
   ],
   "source": [
    "n1 = int(input(\"Enter Smaller number\"))\n",
    "n2 = int(input(\"Enter Larger number\"))\n",
    "sum = 0\n",
    "number = n1\n",
    "while number <= n2:\n",
    "    if number % 2 != 0:\n",
    "        sum = sum + number\n",
    "    number = number + 1\n",
    "print(sum)"
   ]
  },
  {
   "cell_type": "code",
   "execution_count": 4,
   "id": "710ced5d-9241-405c-b268-fbfddc15b08d",
   "metadata": {},
   "outputs": [
    {
     "name": "stdin",
     "output_type": "stream",
     "text": [
      "Enter First number 3\n",
      "Enter Second number 8\n"
     ]
    },
    {
     "name": "stdout",
     "output_type": "stream",
     "text": [
      "18\n"
     ]
    }
   ],
   "source": [
    "n1=int(input(\"Enter First number\"))\n",
    "n2=int(input(\"Enter Second number\"))\n",
    "\n",
    "sum=0\n",
    "number= n1\n",
    "while number <= n2:\n",
    "        if number %2==0:\n",
    "            sum=sum+number\n",
    "        number=number+1\n",
    "print(sum)"
   ]
  }
 ],
 "metadata": {
  "kernelspec": {
   "display_name": "Python [conda env:base] *",
   "language": "python",
   "name": "conda-base-py"
  },
  "language_info": {
   "codemirror_mode": {
    "name": "ipython",
    "version": 3
   },
   "file_extension": ".py",
   "mimetype": "text/x-python",
   "name": "python",
   "nbconvert_exporter": "python",
   "pygments_lexer": "ipython3",
   "version": "3.13.5"
  }
 },
 "nbformat": 4,
 "nbformat_minor": 5
}
