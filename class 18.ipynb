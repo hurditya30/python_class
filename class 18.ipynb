{
 "cells": [
  {
   "cell_type": "code",
   "execution_count": 6,
   "id": "03ce4c5b-4852-4ec3-a72b-5fdda3c028bd",
   "metadata": {},
   "outputs": [
    {
     "name": "stdout",
     "output_type": "stream",
     "text": [
      "User info:\n",
      "Phone: ( 864 ) 555 - 199\n"
     ]
    }
   ],
   "source": [
    "def print_phone_num():\n",
    "    print(\"Phone: (\", 864,\")\",555,\"-\", 199)\n",
    "\n",
    "print (\"User info:\")\n",
    "print_phone_num()"
   ]
  },
  {
   "cell_type": "code",
   "execution_count": 5,
   "id": "0dd080e9-d354-4f1a-b981-f0546a3dd000",
   "metadata": {},
   "outputs": [
    {
     "name": "stdout",
     "output_type": "stream",
     "text": [
      "Food/Drink option:\n",
      "Popcorn: $8-10\n",
      "Candy: $3-5\n",
      "Soft drink: $5-7\n"
     ]
    }
   ],
   "source": [
    "def concessions():\n",
    "    print(f\"Food/Drink option:\")\n",
    "    print(f\"Popcorn: $8-10\")\n",
    "    print(f\"Candy: $3-5\")\n",
    "    print(f\"Soft drink: $5-7\")\n",
    "concessions()"
   ]
  },
  {
   "cell_type": "code",
   "execution_count": 24,
   "id": "f9dae0c2-eda4-4fda-8085-34386bd85a42",
   "metadata": {},
   "outputs": [
    {
     "name": "stdin",
     "output_type": "stream",
     "text": [
      "Do you accept the terms and conditions? no\n"
     ]
    },
    {
     "name": "stdout",
     "output_type": "stream",
     "text": [
      "Have a good day\n"
     ]
    }
   ],
   "source": [
    "def terms():\n",
    "    user_input=input(\"Do you accept the terms and conditions?\")\n",
    "    if user_input == \"Yes\":\n",
    "        print(\"Thank you for accepting\")\n",
    "    else:\n",
    "        print(\"Have a good day\")\n",
    "terms()"
   ]
  }
 ],
 "metadata": {
  "kernelspec": {
   "display_name": "Python [conda env:base] *",
   "language": "python",
   "name": "conda-base-py"
  },
  "language_info": {
   "codemirror_mode": {
    "name": "ipython",
    "version": 3
   },
   "file_extension": ".py",
   "mimetype": "text/x-python",
   "name": "python",
   "nbconvert_exporter": "python",
   "pygments_lexer": "ipython3",
   "version": "3.13.5"
  }
 },
 "nbformat": 4,
 "nbformat_minor": 5
}
