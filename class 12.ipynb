{
 "cells": [
  {
   "cell_type": "code",
   "execution_count": 9,
   "id": "aee92ff0-c1bf-4620-90e1-d7c1b1bd9c8d",
   "metadata": {},
   "outputs": [
    {
     "name": "stdin",
     "output_type": "stream",
     "text": [
      "Enter a number for multiplication table:  9\n"
     ]
    },
    {
     "name": "stdout",
     "output_type": "stream",
     "text": [
      "9\n",
      "18\n",
      "27\n",
      "36\n",
      "45\n",
      "54\n",
      "63\n",
      "72\n",
      "90\n"
     ]
    }
   ],
   "source": [
    "number = int(input(\"Enter a number for multiplication table: \"))\n",
    "print(int(number) *1)\n",
    "print (int(number)*2)\n",
    "print (int(number)*3)\n",
    "print (int(number)*4)\n",
    "print (int(number)*5)\n",
    "print (int(number)*6)\n",
    "print (int(number)*7)\n",
    "print (int(number)*8)\n",
    "print (int(number)*10)"
   ]
  },
  {
   "cell_type": "code",
   "execution_count": null,
   "id": "54dd3fdd-41d3-4b9e-811c-f623ff38c7bc",
   "metadata": {},
   "outputs": [],
   "source": [
    "n=int(input(\"Enter a number for multiplication table:\"))\n",
    "counter=1\n",
    "while counter <=10:\n",
    "print(n*counter)\n",
    "counter+=1"
   ]
  },
  {
   "cell_type": "code",
   "execution_count": null,
   "id": "355e6d54-816c-46ef-b168-36dc9d980af2",
   "metadata": {},
   "outputs": [],
   "source": [
    "n=4\n",
    "while n > 0:"
   ]
  }
 ],
 "metadata": {
  "kernelspec": {
   "display_name": "Python [conda env:base] *",
   "language": "python",
   "name": "conda-base-py"
  },
  "language_info": {
   "codemirror_mode": {
    "name": "ipython",
    "version": 3
   },
   "file_extension": ".py",
   "mimetype": "text/x-python",
   "name": "python",
   "nbconvert_exporter": "python",
   "pygments_lexer": "ipython3",
   "version": "3.13.5"
  }
 },
 "nbformat": 4,
 "nbformat_minor": 5
}
