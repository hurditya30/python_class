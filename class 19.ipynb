{
 "cells": [
  {
   "cell_type": "code",
   "execution_count": 8,
   "id": "f8102f75-e083-428e-9967-b56f4de62871",
   "metadata": {},
   "outputs": [
    {
     "name": "stdout",
     "output_type": "stream",
     "text": [
      "Open sunrise to sunset\n",
      "Welcome to the park\n"
     ]
    }
   ],
   "source": [
    "def park_greet():\n",
    "    \"\"\"Output greeting.\"\"\"\n",
    "    print(\"Welcome to the park\")\n",
    "print(\"Open sunrise to sunset\")\n",
    "park_greet()"
   ]
  },
  {
   "cell_type": "code",
   "execution_count": 20,
   "id": "620bbc83-2b75-46fc-a21d-a46e60232d62",
   "metadata": {},
   "outputs": [
    {
     "name": "stdout",
     "output_type": "stream",
     "text": [
      "Do you accept the terms and conditions? (y/n)\n"
     ]
    },
    {
     "name": "stdin",
     "output_type": "stream",
     "text": [
      " n\n"
     ]
    },
    {
     "name": "stdout",
     "output_type": "stream",
     "text": [
      "You have rejected the terms. Bye-Bye.\n"
     ]
    }
   ],
   "source": [
    "def accepted():\n",
    "    print(\"Thank you for accepting the terms.\")\n",
    "\n",
    "def rejected():\n",
    "    print(\"You have rejected the terms. Bye-Bye.\")\n",
    "\n",
    "def terms():\n",
    "    print(\"Do you accept the terms and conditions? (y/n)\")\n",
    "    response = input()\n",
    "    \n",
    "    if response == 'y':\n",
    "        accepted()\n",
    "    else:\n",
    "        rejected()\n",
    "terms()"
   ]
  },
  {
   "cell_type": "code",
   "execution_count": 26,
   "id": "582812db-54e0-4a87-929d-39153e205f9e",
   "metadata": {},
   "outputs": [
    {
     "name": "stdout",
     "output_type": "stream",
     "text": [
      "Deepak\n"
     ]
    }
   ],
   "source": [
    "my_name=\"Deepak\"\n",
    "def print_name():\n",
    "    print(my_name)\n",
    "print_name()"
   ]
  },
  {
   "cell_type": "code",
   "execution_count": 29,
   "id": "0cb6e5d2-c95e-407a-8e91-73da0164f813",
   "metadata": {},
   "outputs": [
    {
     "name": "stdin",
     "output_type": "stream",
     "text": [
      " 10\n"
     ]
    },
    {
     "name": "stdout",
     "output_type": "stream",
     "text": [
      "10.0 doubled is 20.0\n",
      "10.0 squared is 100.0\n"
     ]
    }
   ],
   "source": [
    "def print_double():\n",
    "    num_d = num * 2\n",
    "    print(num, \"doubled is\", num_d)\n",
    "\n",
    "def print_square():\n",
    "    num_sq = num * num\n",
    "    print(num, \"squared is\", num_sq)\n",
    "\n",
    "num = float(input())\n",
    "print_double()\n",
    "print_square()"
   ]
  }
 ],
 "metadata": {
  "kernelspec": {
   "display_name": "Python [conda env:base] *",
   "language": "python",
   "name": "conda-base-py"
  },
  "language_info": {
   "codemirror_mode": {
    "name": "ipython",
    "version": 3
   },
   "file_extension": ".py",
   "mimetype": "text/x-python",
   "name": "python",
   "nbconvert_exporter": "python",
   "pygments_lexer": "ipython3",
   "version": "3.13.5"
  }
 },
 "nbformat": 4,
 "nbformat_minor": 5
}
