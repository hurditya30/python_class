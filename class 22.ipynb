{
 "cells": [
  {
   "cell_type": "code",
   "execution_count": 5,
   "id": "efabcb28-0f50-45db-99b7-1cfae837aa43",
   "metadata": {},
   "outputs": [
    {
     "name": "stdin",
     "output_type": "stream",
     "text": [
      "Enter the list [1,2,3,4]\n"
     ]
    },
    {
     "ename": "AttributeError",
     "evalue": "'str' object has no attribute 'tolist'",
     "output_type": "error",
     "traceback": [
      "\u001b[1;31m---------------------------------------------------------------------------\u001b[0m",
      "\u001b[1;31mAttributeError\u001b[0m                            Traceback (most recent call last)",
      "Cell \u001b[1;32mIn[5], line 4\u001b[0m\n\u001b[0;32m      2\u001b[0m     \u001b[38;5;28;01mreturn\u001b[39;00m \u001b[38;5;28msum\u001b[39m(my_list)\u001b[38;5;241m/\u001b[39m\u001b[38;5;28mlen\u001b[39m(my_list)\n\u001b[0;32m      3\u001b[0m list_1\u001b[38;5;241m=\u001b[39m\u001b[38;5;28minput\u001b[39m(\u001b[38;5;124m\"\u001b[39m\u001b[38;5;124mEnter the list\u001b[39m\u001b[38;5;124m\"\u001b[39m)\n\u001b[1;32m----> 4\u001b[0m list_2\u001b[38;5;241m=\u001b[39mlist_1\u001b[38;5;241m.\u001b[39mtolist()\n\u001b[0;32m      5\u001b[0m \u001b[38;5;28mprint\u001b[39m(avg_list(list_2))\n",
      "\u001b[1;31mAttributeError\u001b[0m: 'str' object has no attribute 'tolist'"
     ]
    }
   ],
   "source": [
    "def avg_list(my_list):\n",
    "    return sum(my_list)/len(my_list)\n",
    "list_1=input(\"Enter the list\")\n",
    "list_2=list_1.tolist()\n",
    "print(avg_list(list_2))"
   ]
  },
  {
   "cell_type": "code",
   "execution_count": 6,
   "id": "93fdc299-3367-43c4-8788-16a628b36dc5",
   "metadata": {},
   "outputs": [
    {
     "name": "stdout",
     "output_type": "stream",
     "text": [
      "30\n",
      "15\n",
      "30\n"
     ]
    }
   ],
   "source": [
    "def my_sum(a,b):\n",
    "    return a+b\n",
    "print(my_sum(b=10,a=20))\n",
    "print(my_sum(a=5,b=10))\n",
    "print(my_sum(10,20))"
   ]
  },
  {
   "cell_type": "code",
   "execution_count": 7,
   "id": "85042829-fbf4-472e-beeb-240d625676c3",
   "metadata": {},
   "outputs": [
    {
     "name": "stdout",
     "output_type": "stream",
     "text": [
      "2.0\n",
      "0.5\n",
      "0.5\n"
     ]
    }
   ],
   "source": [
    "def my_sum(a,b):\n",
    "    return a/b\n",
    "print(my_sum(b=10,a=20))\n",
    "print(my_sum(a=5,b=10))\n",
    "print(my_sum(10,20))"
   ]
  },
  {
   "cell_type": "code",
   "execution_count": 17,
   "id": "1ade9409-7c66-443b-b1b1-30a7d6cd33a5",
   "metadata": {},
   "outputs": [],
   "source": [
    "def greeting(msg,name=\"friend\",count=1):\n",
    "    i=0\n",
    "    for i in range(0,count):\n",
    "        print(msg,name)\n",
    "greeting(count=0,msg=\"Hello\")"
   ]
  },
  {
   "cell_type": "code",
   "execution_count": 26,
   "id": "bd7d85a5-e789-4fb4-a749-0402da7f5aba",
   "metadata": {},
   "outputs": [
    {
     "name": "stdout",
     "output_type": "stream",
     "text": [
      "anonymous donated 10 credits: gg\n",
      "Hurditya donated 50 credits: Well done bro!\n"
     ]
    }
   ],
   "source": [
    "def donate(amount=5, msg=\"Thank you\", name=\"anonymous\"):\n",
    "    print(f\"{name} donated {amount} credits: {msg}\")\n",
    "donate(10, \"gg\")\n",
    "donate(name=\"Hurditya\", amount=50, msg=\"Well done bro!\")"
   ]
  }
 ],
 "metadata": {
  "kernelspec": {
   "display_name": "Python [conda env:base] *",
   "language": "python",
   "name": "conda-base-py"
  },
  "language_info": {
   "codemirror_mode": {
    "name": "ipython",
    "version": 3
   },
   "file_extension": ".py",
   "mimetype": "text/x-python",
   "name": "python",
   "nbconvert_exporter": "python",
   "pygments_lexer": "ipython3",
   "version": "3.13.5"
  }
 },
 "nbformat": 4,
 "nbformat_minor": 5
}
