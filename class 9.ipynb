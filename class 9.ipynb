{
 "cells": [
  {
   "cell_type": "code",
   "execution_count": 7,
   "id": "893c3678-b522-4f8f-9be9-32ab13e087ad",
   "metadata": {},
   "outputs": [
    {
     "name": "stdin",
     "output_type": "stream",
     "text": [
      "Enter the car's speed in mph:  35\n"
     ]
    },
    {
     "name": "stdout",
     "output_type": "stream",
     "text": [
      "Follow the speed limits.\n"
     ]
    }
   ],
   "source": [
    "car_speed = int(input(\"Enter the car's speed in mph: \"))\n",
    "if 45 <= car_speed <= 70:\n",
    "    print(\"Good driving.\")\n",
    "else:\n",
    "    print(\"Follow the speed limits.\")"
   ]
  },
  {
   "cell_type": "code",
   "execution_count": 15,
   "id": "a0b0a554-4fbd-4e05-8825-702eeb4bfc75",
   "metadata": {},
   "outputs": [
    {
     "name": "stdout",
     "output_type": "stream",
     "text": [
      "30\n"
     ]
    }
   ],
   "source": [
    "x=8\n",
    "y=9\n",
    "print(x+3 * y-5)"
   ]
  },
  {
   "cell_type": "code",
   "execution_count": null,
   "id": "03208852-fe4c-45e3-aa0e-ac026f0a92bc",
   "metadata": {},
   "outputs": [],
   "source": []
  }
 ],
 "metadata": {
  "kernelspec": {
   "display_name": "Python [conda env:base] *",
   "language": "python",
   "name": "conda-base-py"
  },
  "language_info": {
   "codemirror_mode": {
    "name": "ipython",
    "version": 3
   },
   "file_extension": ".py",
   "mimetype": "text/x-python",
   "name": "python",
   "nbconvert_exporter": "python",
   "pygments_lexer": "ipython3",
   "version": "3.13.5"
  }
 },
 "nbformat": 4,
 "nbformat_minor": 5
}
