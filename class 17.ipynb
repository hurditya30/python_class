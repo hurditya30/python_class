{
 "cells": [
  {
   "cell_type": "code",
   "execution_count": 1,
   "id": "cbccb748-229d-497a-a46e-bda5fa60e0a8",
   "metadata": {},
   "outputs": [
    {
     "name": "stdout",
     "output_type": "stream",
     "text": [
      "h\n",
      "i\n",
      "A\n",
      "l\n",
      "i\n"
     ]
    }
   ],
   "source": [
    "for c in \"hi Ali\":\n",
    "    if c == \" \":\n",
    "        continue\n",
    "    print(c)"
   ]
  },
  {
   "cell_type": "code",
   "execution_count": 2,
   "id": "5c4e2c94-03a3-4887-b3ec-c43e3c1f009f",
   "metadata": {},
   "outputs": [
    {
     "name": "stdout",
     "output_type": "stream",
     "text": [
      "9\n",
      "6\n",
      "3\n",
      "0\n"
     ]
    }
   ],
   "source": [
    "i=10\n",
    "while i >= 0:\n",
    "    i -= 1\n",
    "    if i%3 != 0:\n",
    "        continue\n",
    "    print (i)"
   ]
  },
  {
   "cell_type": "code",
   "execution_count": 9,
   "id": "ab1933f4-c678-4988-9a5e-bfdb009db35a",
   "metadata": {},
   "outputs": [
    {
     "name": "stdin",
     "output_type": "stream",
     "text": [
      "Enter a string:  Hurditya Sahi\n"
     ]
    },
    {
     "name": "stdout",
     "output_type": "stream",
     "text": [
      "found\n"
     ]
    }
   ],
   "source": [
    "c = input(\"Enter a string: \")\n",
    "if \" \" in c:\n",
    "    print(\"found\")\n",
    "else:\n",
    "    print(\"not found\")"
   ]
  },
  {
   "cell_type": "code",
   "execution_count": 19,
   "id": "6226b506-d204-4b6e-8a8c-41bd9b9f5dd4",
   "metadata": {},
   "outputs": [],
   "source": [
    "n=7\n",
    "exp=0\n",
    "i=n\n",
    "while i > 1:\n",
    "    if n%2 == 0:\n",
    "        i = i//2\n",
    "        exp +=1\n",
    "    else:\n",
    "        break\n",
    "else:\n",
    "    print(n,\"is 2 to the\", exp)"
   ]
  },
  {
   "cell_type": "code",
   "execution_count": 31,
   "id": "487ae9e5-67fc-4c9e-aa24-403aee30e058",
   "metadata": {},
   "outputs": [],
   "source": [
    "def is_prime(num):\n",
    "    \"\"\"Checks if a number is prime.\"\"\"\n",
    "    if num <= 1:\n",
    "        return False\n",
    "    if num <= 3:\n",
    "        return True\n",
    "    if num % 2 == 0 or num % 3 == 0:\n",
    "        return False\n",
    "    i = 5\n",
    "    while i * i <= num:\n",
    "        if num % i == 0 or num % (i + 2) == 0:\n",
    "            return False\n",
    "        i += 6\n",
    "    return True\n",
    "\n",
    "def print_first_n_primes(n):\n",
    "    \"\"\"Prints the first n prime numbers.\"\"\"\n",
    "    if n <= 0:\n",
    "        print(\"Please enter a positive integer for n.\")\n",
    "        return\n",
    "\n",
    "    primes_found = []\n",
    "    num_to_check = 2\n",
    "    while len(primes_found) < n:\n",
    "        if is_prime(num_to_check):\n",
    "            primes_found.append(num_to_check)\n",
    "        num_to_check += 1\n",
    "\n",
    "    for prime in primes_found:\n",
    "        print(prime)"
   ]
  }
 ],
 "metadata": {
  "kernelspec": {
   "display_name": "Python [conda env:base] *",
   "language": "python",
   "name": "conda-base-py"
  },
  "language_info": {
   "codemirror_mode": {
    "name": "ipython",
    "version": 3
   },
   "file_extension": ".py",
   "mimetype": "text/x-python",
   "name": "python",
   "nbconvert_exporter": "python",
   "pygments_lexer": "ipython3",
   "version": "3.13.5"
  }
 },
 "nbformat": 4,
 "nbformat_minor": 5
}
