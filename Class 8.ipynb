{
 "cells": [
  {
   "cell_type": "code",
   "execution_count": 2,
   "id": "9d2b5d2e-90a9-434e-ac8a-b4cc283adda6",
   "metadata": {},
   "outputs": [
    {
     "data": {
      "text/plain": [
       "int"
      ]
     },
     "execution_count": 2,
     "metadata": {},
     "output_type": "execute_result"
    }
   ],
   "source": [
    "is_fruit = \"True\"\n",
    "is_vegetable = 0\n",
    "is_dessert = False\n",
    "type(is_vegetable)"
   ]
  },
  {
   "cell_type": "code",
   "execution_count": 11,
   "id": "a927ff57-8b1d-4e73-ac60-c86a7d864f20",
   "metadata": {},
   "outputs": [
    {
     "name": "stdin",
     "output_type": "stream",
     "text": [
      " False\n",
      " False\n"
     ]
    },
    {
     "name": "stdout",
     "output_type": "stream",
     "text": [
      "True\n"
     ]
    }
   ],
   "source": [
    "bool(input())\n",
    "finding_type=input()\n",
    "print(bool(finding_type))"
   ]
  },
  {
   "cell_type": "code",
   "execution_count": 14,
   "id": "5340f95b-4e1d-4a74-80c7-b132c9dd4bef",
   "metadata": {},
   "outputs": [
    {
     "data": {
      "text/plain": [
       "1"
      ]
     },
     "execution_count": 14,
     "metadata": {},
     "output_type": "execute_result"
    }
   ],
   "source": [
    "is_on=True\n",
    "int(is_on)"
   ]
  },
  {
   "cell_type": "code",
   "execution_count": 23,
   "id": "12a2a306-53e5-4c46-a624-fca573fffda5",
   "metadata": {},
   "outputs": [
    {
     "name": "stdout",
     "output_type": "stream",
     "text": [
      "False\n"
     ]
    }
   ],
   "source": [
    "z= \"cilantro\"\n",
    "compare_result = (z ==\"coriander\")\n",
    "print(compare_result)"
   ]
  },
  {
   "cell_type": "code",
   "execution_count": 25,
   "id": "639fa3f5-2785-49a7-be5f-3f14b3ac8d36",
   "metadata": {},
   "outputs": [
    {
     "name": "stdout",
     "output_type": "stream",
     "text": [
      "False\n"
     ]
    }
   ],
   "source": [
    "a=\"dog\"\n",
    "compare_result=(a < \"cat\")\n",
    "print(compare_result)"
   ]
  },
  {
   "cell_type": "code",
   "execution_count": 26,
   "id": "dc21ca87-330d-45e6-bc27-79d227bdac62",
   "metadata": {},
   "outputs": [
    {
     "name": "stdout",
     "output_type": "stream",
     "text": [
      "75\n"
     ]
    }
   ],
   "source": [
    "num=-10\n",
    "if num < 0:\n",
    "    num=25\n",
    "if num< 100:\n",
    "    num=num+50\n",
    "print(num)"
   ]
  },
  {
   "cell_type": "code",
   "execution_count": 28,
   "id": "1723fa2d-af06-4923-a121-eec63e8f22fc",
   "metadata": {},
   "outputs": [
    {
     "name": "stdin",
     "output_type": "stream",
     "text": [
      "Enter a positive number: 10\n"
     ]
    },
    {
     "name": "stdout",
     "output_type": "stream",
     "text": [
      "0\n"
     ]
    }
   ],
   "source": [
    "positive_num=int(input(\"Enter a positive number:\"))\n",
    "if positive_num < 0:\n",
    "    print(\"negative input set to 0\")\n",
    "positive_num= 0\n",
    "print(positive_num)"
   ]
  },
  {
   "cell_type": "code",
   "execution_count": null,
   "id": "13677ca6-5609-4052-a5a6-cc96d714d111",
   "metadata": {},
   "outputs": [],
   "source": [
    "if x >"
   ]
  }
 ],
 "metadata": {
  "kernelspec": {
   "display_name": "Python [conda env:base] *",
   "language": "python",
   "name": "conda-base-py"
  },
  "language_info": {
   "codemirror_mode": {
    "name": "ipython",
    "version": 3
   },
   "file_extension": ".py",
   "mimetype": "text/x-python",
   "name": "python",
   "nbconvert_exporter": "python",
   "pygments_lexer": "ipython3",
   "version": "3.13.5"
  }
 },
 "nbformat": 4,
 "nbformat_minor": 5
}
