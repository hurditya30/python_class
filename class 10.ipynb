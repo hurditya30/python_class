{
 "cells": [
  {
   "cell_type": "code",
   "execution_count": 1,
   "id": "e1a0b66c-6abf-4b6a-a1ba-4aa8a03b19f7",
   "metadata": {},
   "outputs": [
    {
     "name": "stdout",
     "output_type": "stream",
     "text": [
      "Error: num_dancers is odd\n",
      "49 dancers\n"
     ]
    }
   ],
   "source": [
    "num_dancers=49\n",
    "if num_dancers % 2 == 1:\n",
    "    print(\"Error: num_dancers is odd\")\n",
    "    print(num_dancers,\"dancers\")"
   ]
  },
  {
   "cell_type": "code",
   "execution_count": 4,
   "id": "acc2b618-0c48-40f4-944e-5a6755154092",
   "metadata": {},
   "outputs": [
    {
     "name": "stdin",
     "output_type": "stream",
     "text": [
      "Enter menu type (lunch or dinner):  lunch\n",
      "Enter your meal choice (1, 2, or 3):  2\n"
     ]
    },
    {
     "name": "stdout",
     "output_type": "stream",
     "text": [
      "You selected: Spicy Chicken Wrap\n"
     ]
    }
   ],
   "source": [
    "def get_meal_choice(menu_type, choice_number):\n",
    "    \n",
    "    lunch_options = {\n",
    "        1: \"Caesar Salad\",\n",
    "        2: \"Spicy Chicken Wrap\",\n",
    "        3: \"Butternut Squash Soup\"\n",
    "    }\n",
    "    \n",
    "    dinner_options = {\n",
    "        1: \"Baked Salmon\",\n",
    "        2: \"Turkey Burger\",\n",
    "        3: \"Mushroom Risotto\"\n",
    "    }\n",
    "    \n",
    "    \n",
    "    if menu_type.lower() == \"lunch\":\n",
    "        if choice_number in lunch_options:\n",
    "            return lunch_options[choice_number]\n",
    "        else:\n",
    "            return \"Invalid lunch choice\"\n",
    "    elif menu_type.lower() == \"dinner\":\n",
    "        if choice_number in dinner_options:\n",
    "            return dinner_options[choice_number]\n",
    "        else:\n",
    "            return \"Invalid dinner choice\"\n",
    "    else:\n",
    "        return \"Invalid menu type\"\n",
    "\n",
    "\n",
    "menu_type = input(\"Enter menu type (lunch or dinner): \")\n",
    "try:\n",
    "    choice_number = int(input(\"Enter your meal choice (1, 2, or 3): \"))\n",
    "    \n",
    "    meal = get_meal_choice(menu_type, choice_number)\n",
    "    print(f\"You selected: {meal}\")\n",
    "except ValueError:\n",
    "    print(\"Please enter a valid number for your meal choice.\")"
   ]
  },
  {
   "cell_type": "code",
   "execution_count": 9,
   "id": "1bdcf7e6-0849-49f0-8552-2397e138fcda",
   "metadata": {},
   "outputs": [
    {
     "name": "stdout",
     "output_type": "stream",
     "text": [
      "False\n"
     ]
    }
   ],
   "source": [
    "x=60\n",
    "result= True if x < 50 else False\n",
    "print( result)"
   ]
  },
  {
   "cell_type": "code",
   "execution_count": 17,
   "id": "c6d81a83-faa8-450a-8b3a-b084ef3c5db8",
   "metadata": {},
   "outputs": [
    {
     "name": "stdout",
     "output_type": "stream",
     "text": [
      "2\n"
     ]
    }
   ],
   "source": [
    "fee=1000\n",
    "hours=8\n",
    "total = fee + 10 if hours > 12 else 2\n",
    "print(total)"
   ]
  },
  {
   "cell_type": "code",
   "execution_count": null,
   "id": "777a474b-940b-42fa-9986-ddb3ae604eb8",
   "metadata": {},
   "outputs": [],
   "source": [
    "try:\n",
    "    ping_value = int(input(\"Enter your ping value (in ms): \"))\n",
    "    \n",
    "    \n",
    "    ping_report = \"low to average\" if ping_value < 150 else \"too high\"\n",
    "    \n",
    "    \n",
    "    print(\"Ping:\", ping_value, \"ms\")\n",
    "    print(\"Ping report:\", ping_report)\n",
    "except ValueError:\n",
    "    print(\"Please enter a valid integer for the ping value.\")"
   ]
  }
 ],
 "metadata": {
  "kernelspec": {
   "display_name": "Python [conda env:base] *",
   "language": "python",
   "name": "conda-base-py"
  },
  "language_info": {
   "codemirror_mode": {
    "name": "ipython",
    "version": 3
   },
   "file_extension": ".py",
   "mimetype": "text/x-python",
   "name": "python",
   "nbconvert_exporter": "python",
   "pygments_lexer": "ipython3",
   "version": "3.13.5"
  }
 },
 "nbformat": 4,
 "nbformat_minor": 5
}
