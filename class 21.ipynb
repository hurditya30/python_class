{
 "cells": [
  {
   "cell_type": "code",
   "execution_count": 5,
   "id": "6810a479-d8dd-4712-a940-fef4323fbfe4",
   "metadata": {},
   "outputs": [
    {
     "name": "stdout",
     "output_type": "stream",
     "text": [
      "30\n"
     ]
    }
   ],
   "source": [
    "def my_addition(a,b):\n",
    "    return a + b\n",
    "print(my_addition(10,20))"
   ]
  },
  {
   "cell_type": "code",
   "execution_count": 12,
   "id": "aa79d6c2-4399-42fc-8343-a7606d593b72",
   "metadata": {},
   "outputs": [
    {
     "name": "stdout",
     "output_type": "stream",
     "text": [
      "10.0\n"
     ]
    }
   ],
   "source": [
    "def calc_mpg(miles, gallons):\n",
    "   \n",
    "    mpg=miles/gallons\n",
    "    return mpg\n",
    "print(calc_mpg(100,10))"
   ]
  },
  {
   "cell_type": "code",
   "execution_count": 18,
   "id": "f7c6e913-617a-4054-8203-412c429280dc",
   "metadata": {},
   "outputs": [
    {
     "name": "stdout",
     "output_type": "stream",
     "text": [
      "200\n"
     ]
    }
   ],
   "source": [
    "def calc_sqft(lenght, width):\n",
    "    sqft=lenght * width\n",
    "    return sqft\n",
    "print(calc_sqft(10,20))"
   ]
  },
  {
   "cell_type": "code",
   "execution_count": 22,
   "id": "9c6ea3dc-47e6-4414-be62-94824ea5a6de",
   "metadata": {},
   "outputs": [
    {
     "name": "stdout",
     "output_type": "stream",
     "text": [
      "hello world!\n",
      "None\n",
      "Hello world!\n",
      "None\n"
     ]
    }
   ],
   "source": [
    "def hw_1():\n",
    "    print(\"hello world!\")\n",
    "    return\n",
    "print( hw_1())\n",
    "def hw_2():\n",
    "    print(\"Hello world!\")\n",
    "print (hw_2())"
   ]
  },
  {
   "cell_type": "code",
   "execution_count": 25,
   "id": "2216170a-5731-49fc-9b4c-8211df78b260",
   "metadata": {},
   "outputs": [
    {
     "name": "stdout",
     "output_type": "stream",
     "text": [
      "Car 1's mpg is 28.0\n",
      "Gallons can't be 0\n",
      "Car 2's mpg is -1\n"
     ]
    }
   ],
   "source": [
    "def calc_mpg(miles,gallons):\n",
    "    if gallons > 0:\n",
    "        mpg=miles/gallons\n",
    "        return mpg\n",
    "    else:\n",
    "        print(\"Gallons can't be 0\")\n",
    "        return -1\n",
    "car_1_mpg=calc_mpg(448,16)\n",
    "print(\"Car 1's mpg is\",car_1_mpg)\n",
    "car_2_mpg=calc_mpg(300,0)\n",
    "print(\"Car 2's mpg is\",car_2_mpg)"
   ]
  },
  {
   "cell_type": "code",
   "execution_count": 27,
   "id": "513a0c9b-5813-406d-8837-f3b965a49c0a",
   "metadata": {},
   "outputs": [
    {
     "name": "stdout",
     "output_type": "stream",
     "text": [
      "9\n",
      "10\n"
     ]
    }
   ],
   "source": [
    "def inc_volume(level,max):\n",
    "    if level < max:\n",
    "        return level\n",
    "        level +=1\n",
    "    else:\n",
    "        return level\n",
    "vol1=inc_volume(9,10)\n",
    "print(vol1)\n",
    "vol2=inc_volume(10,10)\n",
    "print(vol2)"
   ]
  },
  {
   "cell_type": "code",
   "execution_count": 31,
   "id": "e4d618b6-af87-4781-ad13-43385a061e4e",
   "metadata": {},
   "outputs": [
    {
     "name": "stdin",
     "output_type": "stream",
     "text": [
      "Enter your age in years:  100\n"
     ]
    },
    {
     "name": "stdout",
     "output_type": "stream",
     "text": [
      "You have been alive about 36524 days\n"
     ]
    }
   ],
   "source": [
    "def days_alive(age):\n",
    "    return round(age * 365.24)\n",
    "age=float(input(\"Enter your age in years: \"))\n",
    "print(f\"You have been alive about{days_alive(age)}days\")"
   ]
  }
 ],
 "metadata": {
  "kernelspec": {
   "display_name": "Python [conda env:base] *",
   "language": "python",
   "name": "conda-base-py"
  },
  "language_info": {
   "codemirror_mode": {
    "name": "ipython",
    "version": 3
   },
   "file_extension": ".py",
   "mimetype": "text/x-python",
   "name": "python",
   "nbconvert_exporter": "python",
   "pygments_lexer": "ipython3",
   "version": "3.13.5"
  }
 },
 "nbformat": 4,
 "nbformat_minor": 5
}
