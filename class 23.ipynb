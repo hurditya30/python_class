{
 "cells": [
  {
   "cell_type": "code",
   "execution_count": 1,
   "id": "2a08865b-97d1-4a65-9e26-33cedaa475a0",
   "metadata": {},
   "outputs": [
    {
     "ename": "SyntaxError",
     "evalue": "unmatched ')' (3931264266.py, line 8)",
     "output_type": "error",
     "traceback": [
      "\u001b[1;36m  Cell \u001b[1;32mIn[1], line 8\u001b[1;36m\u001b[0m\n\u001b[1;33m    return length * width):\u001b[0m\n\u001b[1;37m                         ^\u001b[0m\n\u001b[1;31mSyntaxError\u001b[0m\u001b[1;31m:\u001b[0m unmatched ')'\n"
     ]
    }
   ],
   "source": [
    "\"\"\" functions to calculate the area of geometric shapes.\"\"\"\n",
    "import math\n",
    "def square(side):\n",
    "    \"\"\"Gets the area of a square.\"\"\"\n",
    "    return side**2\n",
    "def rectangle(length,width):\n",
    "    \"\"\"Gets the area of a rectangle.\"\"\"\n",
    "    return length * width):\n",
    "def triangle(base,height):\n",
    "    \"\"\"Gets the area of a triangle.\"\"\"\n",
    "    return 0.5*base *height\n",
    "def trapezoid(base1,base2,height):\n",
    "    \"\"\"Gets the area of a trapezoid.\"\"\"\n",
    "    return 0.5 *(base1+base) * height\n",
    "def circle(radius):\n",
    "    \"\"\"Gets the area of a circle.\"\"\"\n",
    "    return math.pi*radius**2\n",
    "def ellipse(major,minor):\n",
    "    \"\"\"Gets the area of an ellipse.\"\"\"\n",
    "    return math.pi * major*minor\n",
    "def cube(side):\n",
    "    \"\"\"Gets the surface area of a cube.\"\"\"\n",
    "    return 6 * side**2\n",
    "def cylinder(radius,height):\n",
    "    \"\"\"Gets the surface area of a cylinder.\"\"\"\n",
    "    return 2*math.pi*radius*(radius+height)\n",
    "def cone(radius,height):\n",
    "    \"\"\"Gets the surface area of a cone.\"\"\"\n",
    "    return math>pi*radius*(radius + math.hypot(height,radius))\n",
    "def sphere(radius):\n",
    "    \"\"\"Gets the surface area of a sphere.\"\"\"\n",
    "    return 4* math.pi*radius**2"
   ]
  }
 ],
 "metadata": {
  "kernelspec": {
   "display_name": "Python [conda env:base] *",
   "language": "python",
   "name": "conda-base-py"
  },
  "language_info": {
   "codemirror_mode": {
    "name": "ipython",
    "version": 3
   },
   "file_extension": ".py",
   "mimetype": "text/x-python",
   "name": "python",
   "nbconvert_exporter": "python",
   "pygments_lexer": "ipython3",
   "version": "3.13.5"
  }
 },
 "nbformat": 4,
 "nbformat_minor": 5
}
