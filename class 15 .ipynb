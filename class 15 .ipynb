{
 "cells": [
  {
   "cell_type": "code",
   "execution_count": 1,
   "id": "2b55d57d-9cfe-43a9-97cf-097b9b95e34b",
   "metadata": {},
   "outputs": [
    {
     "name": "stdout",
     "output_type": "stream",
     "text": [
      "8 : 0\n",
      "8 : 30\n",
      "9 : 0\n",
      "9 : 30\n"
     ]
    }
   ],
   "source": [
    "hour=8\n",
    "minute=0\n",
    "while hour <=9:\n",
    "    while minute <= 59:\n",
    "      print(hour, \":\", minute)\n",
    "      minute +=30\n",
    "    hour += 1\n",
    "    minute = 0 "
   ]
  },
  {
   "cell_type": "code",
   "execution_count": 2,
   "id": "1e0484e3-9cbd-4da1-8606-465f3b67243f",
   "metadata": {},
   "outputs": [
    {
     "name": "stdout",
     "output_type": "stream",
     "text": [
      "***\n",
      "***\n"
     ]
    }
   ],
   "source": [
    "i=1\n",
    "while i <=2:\n",
    "    j=1\n",
    "    while j <=3:\n",
    "        print('*',end = '')\n",
    "        j += 1\n",
    "    print()\n",
    "    i += 1"
   ]
  },
  {
   "cell_type": "code",
   "execution_count": 10,
   "id": "586718af-ba5e-4a5b-ad41-c01763b2a0ee",
   "metadata": {},
   "outputs": [
    {
     "name": "stdout",
     "output_type": "stream",
     "text": [
      "1 2 3 4 \n",
      "2 4 6 8 \n",
      "3 6 9 12 \n",
      "4 8 12 16 \n"
     ]
    }
   ],
   "source": [
    "i=1\n",
    "while i <=4:\n",
    "    j=1\n",
    "    while j <= 4:\n",
    "        print(i * j, end = ' ')\n",
    "        j += 1\n",
    "    print()\n",
    "    i +=1"
   ]
  },
  {
   "cell_type": "code",
   "execution_count": 18,
   "id": "201b3c0a-3dff-4070-a728-14c6d1663739",
   "metadata": {},
   "outputs": [
    {
     "name": "stdout",
     "output_type": "stream",
     "text": [
      "0246810\n",
      "024\n",
      "02\n"
     ]
    }
   ],
   "source": [
    "number = [12,5,3]\n",
    "i=0\n",
    "for n in number:\n",
    "    while i < n:\n",
    "        print(i,end=\"\") \n",
    "        i += 2\n",
    "    i=0\n",
    "    print()"
   ]
  },
  {
   "cell_type": "code",
   "execution_count": 21,
   "id": "c38d5c04-a640-49f8-b9ad-97ac9210ab6a",
   "metadata": {},
   "outputs": [
    {
     "name": "stdout",
     "output_type": "stream",
     "text": [
      "1 2 3 4 5 6 7 8 9\n",
      "1 2 3 4 5 6 7 8\n",
      "1 2 3 4 5 6 7\n",
      "1 2 3 4 5 6\n",
      "1 2 3 4 5\n",
      "1 2 3 4\n",
      "1 2 3\n",
      "1 2\n",
      "1\n"
     ]
    }
   ],
   "source": [
    "for i in range(9, 0, -1):\n",
    "    print(*range(1, i+1))"
   ]
  },
  {
   "cell_type": "code",
   "execution_count": 24,
   "id": "3ded9896-7b16-4127-b7c9-5085f7a027f6",
   "metadata": {},
   "outputs": [
    {
     "name": "stdout",
     "output_type": "stream",
     "text": [
      "****\n",
      "***\n",
      "**\n",
      "*\n",
      "++++++++++"
     ]
    }
   ],
   "source": [
    "i=4\n",
    "while i>0:\n",
    "    j=0\n",
    "    while j<i:print('*',end='');j+=1\n",
    "    print();i-=1\n",
    "for i in range(4,0,-1):\n",
    "    for j in range(i):print('+',end='')\n",
    "    "
   ]
  }
 ],
 "metadata": {
  "kernelspec": {
   "display_name": "Python [conda env:base] *",
   "language": "python",
   "name": "conda-base-py"
  },
  "language_info": {
   "codemirror_mode": {
    "name": "ipython",
    "version": 3
   },
   "file_extension": ".py",
   "mimetype": "text/x-python",
   "name": "python",
   "nbconvert_exporter": "python",
   "pygments_lexer": "ipython3",
   "version": "3.13.5"
  }
 },
 "nbformat": 4,
 "nbformat_minor": 5
}
