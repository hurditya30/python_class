{
 "cells": [
  {
   "cell_type": "code",
   "execution_count": 1,
   "id": "fe24c988-7f3d-4d0b-85be-eb4b16bdb315",
   "metadata": {},
   "outputs": [
    {
     "name": "stdout",
     "output_type": "stream",
     "text": [
      "Found at index: 0\n"
     ]
    }
   ],
   "source": [
    "user_string=\"This is a string.\"\n",
    "for i in range (len(user_string)):\n",
    "    print(\"Found at index:\", i)\n",
    "    break"
   ]
  },
  {
   "cell_type": "code",
   "execution_count": 2,
   "id": "153f9b46-8cd3-4342-ba9a-13cfc43a1bbc",
   "metadata": {},
   "outputs": [
    {
     "name": "stdout",
     "output_type": "stream",
     "text": [
      "1\n",
      "2\n",
      "3\n",
      "4\n",
      "5\n",
      "6\n",
      "7\n",
      "8\n",
      "9\n"
     ]
    }
   ],
   "source": [
    "counter = 1\n",
    "while True:\n",
    "    if counter >=10:\n",
    "        break\n",
    "    print (counter)\n",
    "    counter +=1"
   ]
  },
  {
   "cell_type": "code",
   "execution_count": null,
   "id": "61deac36-ef14-46b4-9295-a2b737cc3b3c",
   "metadata": {},
   "outputs": [],
   "source": [
    "i = 1\n",
    "count = 0\n",
    "while True:\n",
    "    if i%2 == 0 or i%3 == 0:\n",
    "        count += 1\n",
    "    if count >= 5:\n",
    "        print(i)\n",
    "        break\n",
    "    i += 1 "
   ]
  },
  {
   "cell_type": "code",
   "execution_count": null,
   "id": "7ba3b988-df2f-4713-8edb-b50912788f8f",
   "metadata": {},
   "outputs": [],
   "source": [
    "i = 1\n",
    "while True:\n",
    "  if i%3 == 0 and i%5 == 0:\n",
    "    print(i)\n",
    "    break\n",
    "  i += 1"
   ]
  }
 ],
 "metadata": {
  "kernelspec": {
   "display_name": "Python [conda env:base] *",
   "language": "python",
   "name": "conda-base-py"
  },
  "language_info": {
   "codemirror_mode": {
    "name": "ipython",
    "version": 3
   },
   "file_extension": ".py",
   "mimetype": "text/x-python",
   "name": "python",
   "nbconvert_exporter": "python",
   "pygments_lexer": "ipython3",
   "version": "3.13.5"
  }
 },
 "nbformat": 4,
 "nbformat_minor": 5
}
